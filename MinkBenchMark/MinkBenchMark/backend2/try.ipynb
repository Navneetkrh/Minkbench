{
 "cells": [
  {
   "cell_type": "code",
   "execution_count": 3,
   "metadata": {},
   "outputs": [],
   "source": [
    "import time\n",
    "import numpy as np \n",
    "import pandas as pd \n",
    "from sklearn.model_selection import train_test_split\n",
    "from sklearn.ensemble import AdaBoostClassifier"
   ]
  },
  {
   "cell_type": "code",
   "execution_count": 4,
   "metadata": {},
   "outputs": [],
   "source": [
    "st1 = time.time()\n",
    "df = pd.read_csv('benchmark_data.csv')\n",
    "y_data = np.array(df['Class'])\n",
    "x_data = np.array(df.drop(columns=['Class']))\n",
    "x_train,x_test,y_train,y_test = train_test_split(x_data,y_data,random_state = 100,stratify = y_data)\n",
    "Ada_clf = AdaBoostClassifier(random_state=42)\n",
    "Ada_clf.fit(x_test,y_test)\n",
    "st2 = time.time()"
   ]
  },
  {
   "cell_type": "code",
   "execution_count": 7,
   "metadata": {},
   "outputs": [],
   "source": [
    "df = pd.read_csv('benchmark_data.csv')\n",
    "y_data = df['Class']\n",
    "x_data = df.drop(columns=['Class'])\n",
    "x_train,x_test,y_train,y_test = train_test_split(x_data,y_data,random_state = 100,stratify = y_data)\n",
    "x_test['Class'] = y_test\n",
    "\n",
    "x_test.to_csv('my_benchmark_data.csv', index=False)"
   ]
  },
  {
   "cell_type": "code",
   "execution_count": 5,
   "metadata": {},
   "outputs": [
    {
     "name": "stdout",
     "output_type": "stream",
     "text": [
      "[[ 1.34824000e+05  1.72405450e+00 -2.56111968e-01 ... -3.03316980e-02\n",
      "  -1.18324297e-02  1.50050000e+02]\n",
      " [ 6.27750000e+04 -1.10082481e+00  7.54414509e-01 ... -3.80446093e-02\n",
      "  -1.34397822e-02  1.29000000e+00]\n",
      " [ 1.26642000e+05  2.03527480e+00  2.98465043e-01 ... -3.40228200e-02\n",
      "  -7.69928181e-02  1.06400000e+01]\n",
      " ...\n",
      " [ 1.66391000e+05  1.95988379e+00 -3.09099111e-01 ... -1.04558825e-01\n",
      "  -7.42961204e-02  5.90000000e+01]\n",
      " [ 9.21980000e+04 -6.50490003e-01  1.23774418e+00 ... -2.25481718e-01\n",
      "   1.51700481e-01  5.90000000e+00]\n",
      " [ 6.14900000e+04  1.00551408e+00 -6.64915608e-01 ... -2.82864627e-02\n",
      "   3.04671893e-02  1.59990000e+02]]\n"
     ]
    }
   ],
   "source": [
    "print(x_test)"
   ]
  }
 ],
 "metadata": {
  "kernelspec": {
   "display_name": "Python 3",
   "language": "python",
   "name": "python3"
  },
  "language_info": {
   "codemirror_mode": {
    "name": "ipython",
    "version": 3
   },
   "file_extension": ".py",
   "mimetype": "text/x-python",
   "name": "python",
   "nbconvert_exporter": "python",
   "pygments_lexer": "ipython3",
   "version": "3.10.1"
  }
 },
 "nbformat": 4,
 "nbformat_minor": 2
}
